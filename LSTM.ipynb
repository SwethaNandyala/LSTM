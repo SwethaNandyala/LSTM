{
 "cells": [
  {
   "cell_type": "code",
   "execution_count": 1,
   "id": "60a93614",
   "metadata": {},
   "outputs": [],
   "source": [
    "import numpy as np\n",
    "import pandas as pd\n",
    "import matplotlib.pyplot as plt\n",
    "\n",
    "\n",
    "import tensorflow\n",
    "\n",
    "from tensorflow.keras import Sequential\n",
    "\n",
    "from tensorflow.keras.layers import Flatten,Dense,Dropout,BatchNormalization,LSTM\n",
    "\n",
    "import math\n",
    "\n",
    "from sklearn.metrics import mean_squared_error"
   ]
  },
  {
   "cell_type": "code",
   "execution_count": 2,
   "id": "92886227",
   "metadata": {},
   "outputs": [
    {
     "data": {
      "text/html": [
       "<div>\n",
       "<style scoped>\n",
       "    .dataframe tbody tr th:only-of-type {\n",
       "        vertical-align: middle;\n",
       "    }\n",
       "\n",
       "    .dataframe tbody tr th {\n",
       "        vertical-align: top;\n",
       "    }\n",
       "\n",
       "    .dataframe thead th {\n",
       "        text-align: right;\n",
       "    }\n",
       "</style>\n",
       "<table border=\"1\" class=\"dataframe\">\n",
       "  <thead>\n",
       "    <tr style=\"text-align: right;\">\n",
       "      <th></th>\n",
       "      <th>date</th>\n",
       "      <th>symbol</th>\n",
       "      <th>open</th>\n",
       "      <th>close</th>\n",
       "      <th>low</th>\n",
       "      <th>high</th>\n",
       "      <th>volume</th>\n",
       "    </tr>\n",
       "  </thead>\n",
       "  <tbody>\n",
       "    <tr>\n",
       "      <th>0</th>\n",
       "      <td>2016-01-05</td>\n",
       "      <td>WLTW</td>\n",
       "      <td>123.430000</td>\n",
       "      <td>125.839996</td>\n",
       "      <td>122.309998</td>\n",
       "      <td>126.250000</td>\n",
       "      <td>2163600.0</td>\n",
       "    </tr>\n",
       "    <tr>\n",
       "      <th>1</th>\n",
       "      <td>2016-01-06</td>\n",
       "      <td>WLTW</td>\n",
       "      <td>125.239998</td>\n",
       "      <td>119.980003</td>\n",
       "      <td>119.940002</td>\n",
       "      <td>125.540001</td>\n",
       "      <td>2386400.0</td>\n",
       "    </tr>\n",
       "    <tr>\n",
       "      <th>2</th>\n",
       "      <td>2016-01-07</td>\n",
       "      <td>WLTW</td>\n",
       "      <td>116.379997</td>\n",
       "      <td>114.949997</td>\n",
       "      <td>114.930000</td>\n",
       "      <td>119.739998</td>\n",
       "      <td>2489500.0</td>\n",
       "    </tr>\n",
       "    <tr>\n",
       "      <th>3</th>\n",
       "      <td>2016-01-08</td>\n",
       "      <td>WLTW</td>\n",
       "      <td>115.480003</td>\n",
       "      <td>116.620003</td>\n",
       "      <td>113.500000</td>\n",
       "      <td>117.440002</td>\n",
       "      <td>2006300.0</td>\n",
       "    </tr>\n",
       "    <tr>\n",
       "      <th>4</th>\n",
       "      <td>2016-01-11</td>\n",
       "      <td>WLTW</td>\n",
       "      <td>117.010002</td>\n",
       "      <td>114.970001</td>\n",
       "      <td>114.089996</td>\n",
       "      <td>117.330002</td>\n",
       "      <td>1408600.0</td>\n",
       "    </tr>\n",
       "  </tbody>\n",
       "</table>\n",
       "</div>"
      ],
      "text/plain": [
       "         date symbol        open       close         low        high  \\\n",
       "0  2016-01-05   WLTW  123.430000  125.839996  122.309998  126.250000   \n",
       "1  2016-01-06   WLTW  125.239998  119.980003  119.940002  125.540001   \n",
       "2  2016-01-07   WLTW  116.379997  114.949997  114.930000  119.739998   \n",
       "3  2016-01-08   WLTW  115.480003  116.620003  113.500000  117.440002   \n",
       "4  2016-01-11   WLTW  117.010002  114.970001  114.089996  117.330002   \n",
       "\n",
       "      volume  \n",
       "0  2163600.0  \n",
       "1  2386400.0  \n",
       "2  2489500.0  \n",
       "3  2006300.0  \n",
       "4  1408600.0  "
      ]
     },
     "execution_count": 2,
     "metadata": {},
     "output_type": "execute_result"
    }
   ],
   "source": [
    "train_data = pd.read_csv(\"prices-split-adjusted.csv\")\n",
    "train_data.head()"
   ]
  },
  {
   "cell_type": "code",
   "execution_count": 3,
   "id": "7343b4a5",
   "metadata": {},
   "outputs": [
    {
     "data": {
      "text/plain": [
       "KSU     1762\n",
       "NOC     1762\n",
       "ORCL    1762\n",
       "OMC     1762\n",
       "OKE     1762\n",
       "        ... \n",
       "KHC      378\n",
       "HPE      304\n",
       "CSRA     284\n",
       "WLTW     251\n",
       "FTV      126\n",
       "Name: symbol, Length: 501, dtype: int64"
      ]
     },
     "execution_count": 3,
     "metadata": {},
     "output_type": "execute_result"
    }
   ],
   "source": [
    "train_data[\"symbol\"].value_counts()"
   ]
  },
  {
   "cell_type": "code",
   "execution_count": 4,
   "id": "f076e1ba",
   "metadata": {},
   "outputs": [
    {
     "data": {
      "text/html": [
       "<div>\n",
       "<style scoped>\n",
       "    .dataframe tbody tr th:only-of-type {\n",
       "        vertical-align: middle;\n",
       "    }\n",
       "\n",
       "    .dataframe tbody tr th {\n",
       "        vertical-align: top;\n",
       "    }\n",
       "\n",
       "    .dataframe thead th {\n",
       "        text-align: right;\n",
       "    }\n",
       "</style>\n",
       "<table border=\"1\" class=\"dataframe\">\n",
       "  <thead>\n",
       "    <tr style=\"text-align: right;\">\n",
       "      <th></th>\n",
       "      <th>date</th>\n",
       "      <th>symbol</th>\n",
       "      <th>open</th>\n",
       "      <th>close</th>\n",
       "      <th>low</th>\n",
       "      <th>high</th>\n",
       "      <th>volume</th>\n",
       "    </tr>\n",
       "  </thead>\n",
       "  <tbody>\n",
       "    <tr>\n",
       "      <th>559</th>\n",
       "      <td>2010-01-04</td>\n",
       "      <td>NOC</td>\n",
       "      <td>50.686495</td>\n",
       "      <td>51.364120</td>\n",
       "      <td>50.686495</td>\n",
       "      <td>51.382190</td>\n",
       "      <td>1616100.0</td>\n",
       "    </tr>\n",
       "    <tr>\n",
       "      <th>1027</th>\n",
       "      <td>2010-01-05</td>\n",
       "      <td>NOC</td>\n",
       "      <td>51.228595</td>\n",
       "      <td>51.454471</td>\n",
       "      <td>51.228595</td>\n",
       "      <td>51.906220</td>\n",
       "      <td>1859800.0</td>\n",
       "    </tr>\n",
       "    <tr>\n",
       "      <th>1495</th>\n",
       "      <td>2010-01-06</td>\n",
       "      <td>NOC</td>\n",
       "      <td>51.318946</td>\n",
       "      <td>51.653240</td>\n",
       "      <td>51.129210</td>\n",
       "      <td>51.698415</td>\n",
       "      <td>2204900.0</td>\n",
       "    </tr>\n",
       "    <tr>\n",
       "      <th>1963</th>\n",
       "      <td>2010-01-07</td>\n",
       "      <td>NOC</td>\n",
       "      <td>51.427364</td>\n",
       "      <td>52.186308</td>\n",
       "      <td>51.246665</td>\n",
       "      <td>52.367006</td>\n",
       "      <td>4750900.0</td>\n",
       "    </tr>\n",
       "    <tr>\n",
       "      <th>2431</th>\n",
       "      <td>2010-01-08</td>\n",
       "      <td>NOC</td>\n",
       "      <td>51.833940</td>\n",
       "      <td>51.897187</td>\n",
       "      <td>51.635170</td>\n",
       "      <td>52.493498</td>\n",
       "      <td>1723700.0</td>\n",
       "    </tr>\n",
       "    <tr>\n",
       "      <th>2899</th>\n",
       "      <td>2010-01-11</td>\n",
       "      <td>NOC</td>\n",
       "      <td>52.177270</td>\n",
       "      <td>51.951395</td>\n",
       "      <td>51.680344</td>\n",
       "      <td>52.357973</td>\n",
       "      <td>1523000.0</td>\n",
       "    </tr>\n",
       "    <tr>\n",
       "      <th>3367</th>\n",
       "      <td>2010-01-12</td>\n",
       "      <td>NOC</td>\n",
       "      <td>51.716485</td>\n",
       "      <td>52.005605</td>\n",
       "      <td>51.318946</td>\n",
       "      <td>52.032712</td>\n",
       "      <td>1650500.0</td>\n",
       "    </tr>\n",
       "    <tr>\n",
       "      <th>3835</th>\n",
       "      <td>2010-01-13</td>\n",
       "      <td>NOC</td>\n",
       "      <td>52.177270</td>\n",
       "      <td>53.568667</td>\n",
       "      <td>52.177270</td>\n",
       "      <td>53.821647</td>\n",
       "      <td>2729700.0</td>\n",
       "    </tr>\n",
       "    <tr>\n",
       "      <th>4303</th>\n",
       "      <td>2010-01-14</td>\n",
       "      <td>NOC</td>\n",
       "      <td>53.523489</td>\n",
       "      <td>53.577700</td>\n",
       "      <td>52.918144</td>\n",
       "      <td>54.056556</td>\n",
       "      <td>2044300.0</td>\n",
       "    </tr>\n",
       "    <tr>\n",
       "      <th>4771</th>\n",
       "      <td>2010-01-15</td>\n",
       "      <td>NOC</td>\n",
       "      <td>53.360860</td>\n",
       "      <td>52.963318</td>\n",
       "      <td>52.511569</td>\n",
       "      <td>53.496385</td>\n",
       "      <td>1846800.0</td>\n",
       "    </tr>\n",
       "    <tr>\n",
       "      <th>5239</th>\n",
       "      <td>2010-01-19</td>\n",
       "      <td>NOC</td>\n",
       "      <td>52.954285</td>\n",
       "      <td>53.252438</td>\n",
       "      <td>52.556742</td>\n",
       "      <td>53.857787</td>\n",
       "      <td>2460200.0</td>\n",
       "    </tr>\n",
       "    <tr>\n",
       "      <th>5707</th>\n",
       "      <td>2010-01-20</td>\n",
       "      <td>NOC</td>\n",
       "      <td>52.791652</td>\n",
       "      <td>52.665164</td>\n",
       "      <td>51.960431</td>\n",
       "      <td>53.044632</td>\n",
       "      <td>1858600.0</td>\n",
       "    </tr>\n",
       "    <tr>\n",
       "      <th>6175</th>\n",
       "      <td>2010-01-21</td>\n",
       "      <td>NOC</td>\n",
       "      <td>52.538672</td>\n",
       "      <td>51.210525</td>\n",
       "      <td>51.120173</td>\n",
       "      <td>52.710338</td>\n",
       "      <td>2682100.0</td>\n",
       "    </tr>\n",
       "    <tr>\n",
       "      <th>6643</th>\n",
       "      <td>2010-01-22</td>\n",
       "      <td>NOC</td>\n",
       "      <td>51.300875</td>\n",
       "      <td>50.261845</td>\n",
       "      <td>50.171497</td>\n",
       "      <td>51.373153</td>\n",
       "      <td>2182900.0</td>\n",
       "    </tr>\n",
       "    <tr>\n",
       "      <th>7111</th>\n",
       "      <td>2010-01-25</td>\n",
       "      <td>NOC</td>\n",
       "      <td>50.822020</td>\n",
       "      <td>50.325093</td>\n",
       "      <td>50.017902</td>\n",
       "      <td>50.822020</td>\n",
       "      <td>2499100.0</td>\n",
       "    </tr>\n",
       "    <tr>\n",
       "      <th>7579</th>\n",
       "      <td>2010-01-26</td>\n",
       "      <td>NOC</td>\n",
       "      <td>50.270882</td>\n",
       "      <td>50.623247</td>\n",
       "      <td>49.963691</td>\n",
       "      <td>51.002719</td>\n",
       "      <td>2079300.0</td>\n",
       "    </tr>\n",
       "    <tr>\n",
       "      <th>8047</th>\n",
       "      <td>2010-01-27</td>\n",
       "      <td>NOC</td>\n",
       "      <td>50.460618</td>\n",
       "      <td>51.264735</td>\n",
       "      <td>50.225708</td>\n",
       "      <td>51.463505</td>\n",
       "      <td>3078900.0</td>\n",
       "    </tr>\n",
       "    <tr>\n",
       "      <th>8515</th>\n",
       "      <td>2010-01-28</td>\n",
       "      <td>NOC</td>\n",
       "      <td>51.346050</td>\n",
       "      <td>51.174384</td>\n",
       "      <td>50.352196</td>\n",
       "      <td>51.680344</td>\n",
       "      <td>2672800.0</td>\n",
       "    </tr>\n",
       "    <tr>\n",
       "      <th>8983</th>\n",
       "      <td>2010-01-29</td>\n",
       "      <td>NOC</td>\n",
       "      <td>51.463505</td>\n",
       "      <td>51.138244</td>\n",
       "      <td>50.876227</td>\n",
       "      <td>51.553855</td>\n",
       "      <td>2585800.0</td>\n",
       "    </tr>\n",
       "    <tr>\n",
       "      <th>9451</th>\n",
       "      <td>2010-02-01</td>\n",
       "      <td>NOC</td>\n",
       "      <td>51.391224</td>\n",
       "      <td>52.330866</td>\n",
       "      <td>51.327980</td>\n",
       "      <td>52.493498</td>\n",
       "      <td>3725800.0</td>\n",
       "    </tr>\n",
       "  </tbody>\n",
       "</table>\n",
       "</div>"
      ],
      "text/plain": [
       "            date symbol       open      close        low       high     volume\n",
       "559   2010-01-04    NOC  50.686495  51.364120  50.686495  51.382190  1616100.0\n",
       "1027  2010-01-05    NOC  51.228595  51.454471  51.228595  51.906220  1859800.0\n",
       "1495  2010-01-06    NOC  51.318946  51.653240  51.129210  51.698415  2204900.0\n",
       "1963  2010-01-07    NOC  51.427364  52.186308  51.246665  52.367006  4750900.0\n",
       "2431  2010-01-08    NOC  51.833940  51.897187  51.635170  52.493498  1723700.0\n",
       "2899  2010-01-11    NOC  52.177270  51.951395  51.680344  52.357973  1523000.0\n",
       "3367  2010-01-12    NOC  51.716485  52.005605  51.318946  52.032712  1650500.0\n",
       "3835  2010-01-13    NOC  52.177270  53.568667  52.177270  53.821647  2729700.0\n",
       "4303  2010-01-14    NOC  53.523489  53.577700  52.918144  54.056556  2044300.0\n",
       "4771  2010-01-15    NOC  53.360860  52.963318  52.511569  53.496385  1846800.0\n",
       "5239  2010-01-19    NOC  52.954285  53.252438  52.556742  53.857787  2460200.0\n",
       "5707  2010-01-20    NOC  52.791652  52.665164  51.960431  53.044632  1858600.0\n",
       "6175  2010-01-21    NOC  52.538672  51.210525  51.120173  52.710338  2682100.0\n",
       "6643  2010-01-22    NOC  51.300875  50.261845  50.171497  51.373153  2182900.0\n",
       "7111  2010-01-25    NOC  50.822020  50.325093  50.017902  50.822020  2499100.0\n",
       "7579  2010-01-26    NOC  50.270882  50.623247  49.963691  51.002719  2079300.0\n",
       "8047  2010-01-27    NOC  50.460618  51.264735  50.225708  51.463505  3078900.0\n",
       "8515  2010-01-28    NOC  51.346050  51.174384  50.352196  51.680344  2672800.0\n",
       "8983  2010-01-29    NOC  51.463505  51.138244  50.876227  51.553855  2585800.0\n",
       "9451  2010-02-01    NOC  51.391224  52.330866  51.327980  52.493498  3725800.0"
      ]
     },
     "execution_count": 4,
     "metadata": {},
     "output_type": "execute_result"
    }
   ],
   "source": [
    "train_data = train_data[train_data[\"symbol\"] == \"NOC\" ]\n",
    "train_data.head(20)"
   ]
  },
  {
   "cell_type": "code",
   "execution_count": 5,
   "id": "4ce8670d",
   "metadata": {},
   "outputs": [],
   "source": [
    "train_data.index = train_data[\"date\"]"
   ]
  },
  {
   "cell_type": "code",
   "execution_count": 6,
   "id": "0626be48",
   "metadata": {},
   "outputs": [],
   "source": [
    "train_data.drop([\"date\"],inplace=True,axis=1)"
   ]
  },
  {
   "cell_type": "code",
   "execution_count": 7,
   "id": "ef56de28",
   "metadata": {},
   "outputs": [
    {
     "data": {
      "text/html": [
       "<div>\n",
       "<style scoped>\n",
       "    .dataframe tbody tr th:only-of-type {\n",
       "        vertical-align: middle;\n",
       "    }\n",
       "\n",
       "    .dataframe tbody tr th {\n",
       "        vertical-align: top;\n",
       "    }\n",
       "\n",
       "    .dataframe thead th {\n",
       "        text-align: right;\n",
       "    }\n",
       "</style>\n",
       "<table border=\"1\" class=\"dataframe\">\n",
       "  <thead>\n",
       "    <tr style=\"text-align: right;\">\n",
       "      <th></th>\n",
       "      <th>symbol</th>\n",
       "      <th>open</th>\n",
       "      <th>close</th>\n",
       "      <th>low</th>\n",
       "      <th>high</th>\n",
       "      <th>volume</th>\n",
       "    </tr>\n",
       "    <tr>\n",
       "      <th>date</th>\n",
       "      <th></th>\n",
       "      <th></th>\n",
       "      <th></th>\n",
       "      <th></th>\n",
       "      <th></th>\n",
       "      <th></th>\n",
       "    </tr>\n",
       "  </thead>\n",
       "  <tbody>\n",
       "    <tr>\n",
       "      <th>2010-01-04</th>\n",
       "      <td>NOC</td>\n",
       "      <td>50.686495</td>\n",
       "      <td>51.364120</td>\n",
       "      <td>50.686495</td>\n",
       "      <td>51.382190</td>\n",
       "      <td>1616100.0</td>\n",
       "    </tr>\n",
       "    <tr>\n",
       "      <th>2010-01-05</th>\n",
       "      <td>NOC</td>\n",
       "      <td>51.228595</td>\n",
       "      <td>51.454471</td>\n",
       "      <td>51.228595</td>\n",
       "      <td>51.906220</td>\n",
       "      <td>1859800.0</td>\n",
       "    </tr>\n",
       "    <tr>\n",
       "      <th>2010-01-06</th>\n",
       "      <td>NOC</td>\n",
       "      <td>51.318946</td>\n",
       "      <td>51.653240</td>\n",
       "      <td>51.129210</td>\n",
       "      <td>51.698415</td>\n",
       "      <td>2204900.0</td>\n",
       "    </tr>\n",
       "    <tr>\n",
       "      <th>2010-01-07</th>\n",
       "      <td>NOC</td>\n",
       "      <td>51.427364</td>\n",
       "      <td>52.186308</td>\n",
       "      <td>51.246665</td>\n",
       "      <td>52.367006</td>\n",
       "      <td>4750900.0</td>\n",
       "    </tr>\n",
       "    <tr>\n",
       "      <th>2010-01-08</th>\n",
       "      <td>NOC</td>\n",
       "      <td>51.833940</td>\n",
       "      <td>51.897187</td>\n",
       "      <td>51.635170</td>\n",
       "      <td>52.493498</td>\n",
       "      <td>1723700.0</td>\n",
       "    </tr>\n",
       "  </tbody>\n",
       "</table>\n",
       "</div>"
      ],
      "text/plain": [
       "           symbol       open      close        low       high     volume\n",
       "date                                                                    \n",
       "2010-01-04    NOC  50.686495  51.364120  50.686495  51.382190  1616100.0\n",
       "2010-01-05    NOC  51.228595  51.454471  51.228595  51.906220  1859800.0\n",
       "2010-01-06    NOC  51.318946  51.653240  51.129210  51.698415  2204900.0\n",
       "2010-01-07    NOC  51.427364  52.186308  51.246665  52.367006  4750900.0\n",
       "2010-01-08    NOC  51.833940  51.897187  51.635170  52.493498  1723700.0"
      ]
     },
     "execution_count": 7,
     "metadata": {},
     "output_type": "execute_result"
    }
   ],
   "source": [
    "train_data.head()"
   ]
  },
  {
   "cell_type": "code",
   "execution_count": 8,
   "id": "386a265c",
   "metadata": {},
   "outputs": [],
   "source": [
    "from sklearn.preprocessing import MinMaxScaler"
   ]
  },
  {
   "cell_type": "code",
   "execution_count": 9,
   "id": "9c1bd194",
   "metadata": {},
   "outputs": [
    {
     "data": {
      "text/plain": [
       "(1762,)"
      ]
     },
     "execution_count": 9,
     "metadata": {},
     "output_type": "execute_result"
    }
   ],
   "source": [
    "required_data = train_data[\"open\"].to_numpy()\n",
    "required_data.shape"
   ]
  },
  {
   "cell_type": "code",
   "execution_count": 10,
   "id": "f9bf1afd",
   "metadata": {},
   "outputs": [
    {
     "data": {
      "text/plain": [
       "(1762, 1)"
      ]
     },
     "execution_count": 10,
     "metadata": {},
     "output_type": "execute_result"
    }
   ],
   "source": [
    "required_data = required_data.reshape(-1,1)\n",
    "required_data.shape"
   ]
  },
  {
   "cell_type": "code",
   "execution_count": 11,
   "id": "bdb19499",
   "metadata": {},
   "outputs": [],
   "source": [
    "minmax = MinMaxScaler(feature_range=(0, 1))\n",
    "x = minmax.fit_transform(required_data)"
   ]
  },
  {
   "cell_type": "code",
   "execution_count": 12,
   "id": "1e1f6160",
   "metadata": {},
   "outputs": [],
   "source": [
    "## splitting the daata\n",
    "\n",
    "train_size = int(len(x)*0.7)\n",
    "test_size = len(x) - train_size"
   ]
  },
  {
   "cell_type": "code",
   "execution_count": 13,
   "id": "0451d3d2",
   "metadata": {},
   "outputs": [
    {
     "name": "stdout",
     "output_type": "stream",
     "text": [
      "Train data length 1233\n",
      "Test data length 529\n"
     ]
    }
   ],
   "source": [
    "train, test = x[0:train_size,:], x[train_size:len(x),:]\n",
    "print(\"Train data length\",len(train))\n",
    "print(\"Test data length\",len(test))"
   ]
  },
  {
   "cell_type": "code",
   "execution_count": 14,
   "id": "2d531bac",
   "metadata": {},
   "outputs": [
    {
     "data": {
      "text/plain": [
       "array([[0.00928508],\n",
       "       [0.01195064],\n",
       "       [0.01239491],\n",
       "       ...,\n",
       "       [0.43276312],\n",
       "       [0.44844869],\n",
       "       [0.44338408]])"
      ]
     },
     "execution_count": 14,
     "metadata": {},
     "output_type": "execute_result"
    }
   ],
   "source": [
    "train"
   ]
  },
  {
   "cell_type": "code",
   "execution_count": 15,
   "id": "6726d039",
   "metadata": {},
   "outputs": [],
   "source": [
    "def create_datset(x,look_back=15):\n",
    "    dataX, dataY = [], []\n",
    "    \n",
    "    for i in range(len(x)-look_back-1):\n",
    "        \n",
    "        a = x[i:(i+look_back),0]\n",
    "        dataX.append(a)\n",
    "        \n",
    "        dataY.append(x[i+look_back,0])\n",
    "        \n",
    "    return np.array(dataX), np.array(dataY)"
   ]
  },
  {
   "cell_type": "code",
   "execution_count": 16,
   "id": "d5aa622e",
   "metadata": {},
   "outputs": [],
   "source": [
    "X_train, y_train = create_datset(train, look_back=15)\n",
    "\n",
    "X_test, y_test = create_datset(test, look_back=15)"
   ]
  },
  {
   "cell_type": "code",
   "execution_count": 17,
   "id": "17d42404",
   "metadata": {},
   "outputs": [
    {
     "name": "stdout",
     "output_type": "stream",
     "text": [
      "X train shape (1217, 15)\n",
      "Y train shape (1217,)\n",
      "X test shape (513, 15)\n",
      "Y test shape (513,)\n"
     ]
    }
   ],
   "source": [
    "print(\"X train shape\", X_train.shape)\n",
    "print(\"Y train shape\", y_train.shape)\n",
    "print(\"X test shape\", X_test.shape)\n",
    "print(\"Y test shape\", y_test.shape)"
   ]
  },
  {
   "cell_type": "code",
   "execution_count": 18,
   "id": "bfae3bab",
   "metadata": {},
   "outputs": [],
   "source": [
    "X_train = X_train.reshape((X_train.shape[0],X_train.shape[1],1))\n",
    "X_test = X_test.reshape((X_test.shape[0],X_test.shape[1],1))"
   ]
  },
  {
   "cell_type": "code",
   "execution_count": 19,
   "id": "3bd4e0f1",
   "metadata": {},
   "outputs": [
    {
     "name": "stdout",
     "output_type": "stream",
     "text": [
      "(1217, 15, 1)\n",
      "(1217,)\n",
      "(513, 15, 1)\n",
      "(513,)\n"
     ]
    }
   ],
   "source": [
    "print(X_train.shape)\n",
    "print(y_train.shape)\n",
    "print(X_test.shape)\n",
    "print(y_test.shape)"
   ]
  },
  {
   "cell_type": "code",
   "execution_count": 20,
   "id": "acf7e3ee",
   "metadata": {},
   "outputs": [],
   "source": [
    "look_back = 15\n",
    "\n",
    "lstm_model = Sequential()\n",
    "\n",
    "lstm_model.add(LSTM(20, input_shape = (look_back, 1)))\n",
    "lstm_model.add(Dense(1)) #output\n",
    "\n",
    "lstm_model.compile(loss= 'mean_squared_error', optimizer = 'adam')"
   ]
  },
  {
   "cell_type": "code",
   "execution_count": 21,
   "id": "86dcb6d8",
   "metadata": {},
   "outputs": [
    {
     "name": "stdout",
     "output_type": "stream",
     "text": [
      "Model: \"sequential\"\n",
      "_________________________________________________________________\n",
      " Layer (type)                Output Shape              Param #   \n",
      "=================================================================\n",
      " lstm (LSTM)                 (None, 20)                1760      \n",
      "                                                                 \n",
      " dense (Dense)               (None, 1)                 21        \n",
      "                                                                 \n",
      "=================================================================\n",
      "Total params: 1781 (6.96 KB)\n",
      "Trainable params: 1781 (6.96 KB)\n",
      "Non-trainable params: 0 (0.00 Byte)\n",
      "_________________________________________________________________\n"
     ]
    }
   ],
   "source": [
    "lstm_model.summary()"
   ]
  },
  {
   "cell_type": "code",
   "execution_count": 22,
   "id": "6f216f3d",
   "metadata": {},
   "outputs": [
    {
     "name": "stdout",
     "output_type": "stream",
     "text": [
      "Epoch 1/20\n",
      "1217/1217 - 5s - loss: 8.4739e-04 - 5s/epoch - 4ms/step\n",
      "Epoch 2/20\n",
      "1217/1217 - 5s - loss: 1.4525e-04 - 5s/epoch - 4ms/step\n",
      "Epoch 3/20\n",
      "1217/1217 - 4s - loss: 1.2663e-04 - 4s/epoch - 3ms/step\n",
      "Epoch 4/20\n",
      "1217/1217 - 4s - loss: 1.0469e-04 - 4s/epoch - 3ms/step\n",
      "Epoch 5/20\n",
      "1217/1217 - 3s - loss: 1.0027e-04 - 3s/epoch - 3ms/step\n",
      "Epoch 6/20\n",
      "1217/1217 - 4s - loss: 8.3016e-05 - 4s/epoch - 4ms/step\n",
      "Epoch 7/20\n",
      "1217/1217 - 4s - loss: 7.4893e-05 - 4s/epoch - 4ms/step\n",
      "Epoch 8/20\n",
      "1217/1217 - 4s - loss: 6.6461e-05 - 4s/epoch - 3ms/step\n",
      "Epoch 9/20\n",
      "1217/1217 - 4s - loss: 5.2216e-05 - 4s/epoch - 3ms/step\n",
      "Epoch 10/20\n",
      "1217/1217 - 4s - loss: 4.9434e-05 - 4s/epoch - 4ms/step\n",
      "Epoch 11/20\n",
      "1217/1217 - 4s - loss: 5.2477e-05 - 4s/epoch - 3ms/step\n",
      "Epoch 12/20\n",
      "1217/1217 - 4s - loss: 4.5084e-05 - 4s/epoch - 3ms/step\n",
      "Epoch 13/20\n",
      "1217/1217 - 4s - loss: 4.6664e-05 - 4s/epoch - 4ms/step\n",
      "Epoch 14/20\n",
      "1217/1217 - 4s - loss: 4.4915e-05 - 4s/epoch - 3ms/step\n",
      "Epoch 15/20\n",
      "1217/1217 - 4s - loss: 4.4087e-05 - 4s/epoch - 4ms/step\n",
      "Epoch 16/20\n",
      "1217/1217 - 4s - loss: 4.6299e-05 - 4s/epoch - 3ms/step\n",
      "Epoch 17/20\n",
      "1217/1217 - 4s - loss: 4.0275e-05 - 4s/epoch - 3ms/step\n",
      "Epoch 18/20\n",
      "1217/1217 - 4s - loss: 3.8966e-05 - 4s/epoch - 3ms/step\n",
      "Epoch 19/20\n",
      "1217/1217 - 4s - loss: 3.7798e-05 - 4s/epoch - 3ms/step\n",
      "Epoch 20/20\n",
      "1217/1217 - 4s - loss: 4.3559e-05 - 4s/epoch - 3ms/step\n"
     ]
    },
    {
     "data": {
      "text/plain": [
       "<keras.src.callbacks.History at 0x27cc31d2610>"
      ]
     },
     "execution_count": 22,
     "metadata": {},
     "output_type": "execute_result"
    }
   ],
   "source": [
    "lstm_model.fit(X_train,y_train, epochs=20, batch_size = 1, verbose=2)"
   ]
  },
  {
   "cell_type": "code",
   "execution_count": 23,
   "id": "4f2aa54d",
   "metadata": {},
   "outputs": [
    {
     "name": "stdout",
     "output_type": "stream",
     "text": [
      "39/39 [==============================] - 0s 2ms/step\n",
      "17/17 [==============================] - 0s 2ms/step\n"
     ]
    }
   ],
   "source": [
    "trainpredict = lstm_model.predict(X_train)\n",
    "testpredict = lstm_model.predict(X_test)\n",
    "\n",
    "# invert predictions\n",
    "trainpredict = minmax.inverse_transform(trainpredict)\n",
    "trainY = minmax.inverse_transform(y_train)\n",
    "testpredict = minmax.inverse_transform(testpredict)\n",
    "testY = minmax.inverse_transform(y_test)"
   ]
  },
  {
   "cell_type": "code",
   "execution_count": 24,
   "id": "1cbeba8f",
   "metadata": {},
   "outputs": [
    {
     "data": {
      "text/plain": [
       "(1217, 1)"
      ]
     },
     "execution_count": 24,
     "metadata": {},
     "output_type": "execute_result"
    }
   ],
   "source": [
    "print(trainpredict.shape)\n",
    "print(testpredict.shape)"
   ]
  },
  {
   "cell_type": "code",
   "execution_count": 31,
   "id": "20fa5123",
   "metadata": {},
   "outputs": [
    {
     "data": {
      "image/png": "[encoded data removed]",
      "text/plain": [
       "<Figure size 432x288 with 1 Axes>"
      ]
     },
     "metadata": {
      "needs_background": "light"
     },
     "output_type": "display_data"
    }
   ],
   "source": [
    "# shift train predictions for plotting\n",
    "trainPredictPlot = np.empty_like(x)\n",
    "trainPredictPlot[:, :] = np.nan\n",
    "trainPredictPlot[look_back:len(trainpredict)+look_back, :] = trainpredict\n",
    "# shift test predictions for plotting\n",
    "testPredictPlot = np.empty_like(x)\n",
    "testPredictPlot[:, :] = np.nan\n",
    "testPredictPlot[len(trainpredict)+(look_back*2)+1:len(x)-1, :] = testpredict\n",
    "# plot baseline and predictions\n",
    "plt.plot(minmax.inverse_transform(x),'r')\n",
    "plt.plot(trainPredictPlot)\n",
    "plt.plot(testPredictPlot,'g')\n",
    "plt.show()"
   ]
  },
  {
   "cell_type": "code",
   "execution_count": 29,
   "id": "c0a32aa1",
   "metadata": {},
   "outputs": [
    {
     "name": "stdout",
     "output_type": "stream",
     "text": [
      "Train Score: 1.05 RMSE\n",
      "Test Score: 3.05 RMSE\n"
     ]
    }
   ],
   "source": [
    "# calculate root mean squared error\n",
    "trainScore = math.sqrt(mean_squared_error(trainY[0], trainpredict))\n",
    "print('Train Score: %.2f RMSE' % (trainScore))\n",
    "testScore = math.sqrt(mean_squared_error(testY[0], testpredict))\n",
    "print('Test Score: %.2f RMSE' % (testScore))"
   ]
  }
 ],
 "metadata": {
  "kernelspec": {
   "display_name": "Python 3 (ipykernel)",
   "language": "python",
   "name": "python3"
  },
  "language_info": {
   "codemirror_mode": {
    "name": "ipython",
    "version": 3
   },
   "file_extension": ".py",
   "mimetype": "text/x-python",
   "name": "python",
   "nbconvert_exporter": "python",
   "pygments_lexer": "ipython3",
   "version": "3.9.12"
  }
 },
 "nbformat": 4,
 "nbformat_minor": 5
}
